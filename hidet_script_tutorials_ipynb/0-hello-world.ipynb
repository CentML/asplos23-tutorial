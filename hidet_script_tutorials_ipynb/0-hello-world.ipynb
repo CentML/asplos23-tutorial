{
 "cells": [
  {
   "cell_type": "markdown",
   "metadata": {},
   "source": [
    "# Hello world\n",
    "\n",
    "In this example, we will write a program in hidet script to print out \"hello, world\". \n",
    "\n",
    "Before we start, we need to install two python packages with the following cell to enable stdout capture and cuda code highlighting."
   ]
  },
  {
   "cell_type": "code",
   "execution_count": 1,
   "metadata": {},
   "outputs": [],
   "source": [
    "%%capture\n",
    "%pip install wurlitzer Pygments\n",
    "%load_ext wurlitzer"
   ]
  },
  {
   "cell_type": "code",
   "execution_count": 2,
   "metadata": {},
   "outputs": [
    {
     "name": "stdout",
     "output_type": "stream",
     "text": [
      "IRModule:\n",
      "def main fn()\n",
      "    # func_kind: host_kernel\n",
      "    printf(\"hello, world!\\n\");\n",
      "\n"
     ]
    }
   ],
   "source": [
    "import hidet\n",
    "from hidet.lang import printf, attr\n",
    "\n",
    "# declare a script module, all script function inside the with-context will be added to it\n",
    "with hidet.script_module() as script_module:\n",
    "    \n",
    "    # all functions decorated by \"hidet.script\" will be marked as Hidet Script function\n",
    "    @hidet.script\n",
    "    def main():\n",
    "        # mark this function is a host side function (run on cpu)\n",
    "        attr.func_kind = 'host_kernel'\n",
    "        \n",
    "        # print out\n",
    "        printf('hello, world!\\n')\n",
    "\n",
    "# get the ir module (hidet.ir.IRModule), which is the top-level IR node\n",
    "ir_module = script_module.ir_module()\n",
    "\n",
    "print('IRModule:')\n",
    "print(str(ir_module).strip())    # hidet.ir.IRModule\n",
    "print()"
   ]
  },
  {
   "cell_type": "code",
   "execution_count": 4,
   "metadata": {},
   "outputs": [
    {
     "name": "stdout",
     "output_type": "stream",
     "text": [
      "        Source path: \"./outs/ir_module/1ba570cf9a404d0f/source.cu\"\n",
      "   Compiled library: \"./outs/ir_module/1ba570cf9a404d0f/lib.so\"\n"
     ]
    }
   ],
   "source": [
    "# compile the ir module to a dynamic library and load it into a python callable\n",
    "compiled_func = hidet.driver.build_ir_module(ir_module, func_name='main')\n",
    "print('        Source path: \"{}\"'.format(compiled_func.src_path))\n",
    "print('   Compiled library: \"{}\"'.format(compiled_func.lib_path))"
   ]
  },
  {
   "cell_type": "markdown",
   "metadata": {},
   "source": [
    "Hidet will compile an IRModule to a dynamic library (e.g., `lib.so`), and dynamically load it into the python environment."
   ]
  },
  {
   "cell_type": "code",
   "execution_count": 5,
   "metadata": {},
   "outputs": [
    {
     "name": "stdout",
     "output_type": "stream",
     "text": [
      "Source code:\n",
      "\u001B[38;5;64m#\u001B[39m\u001B[38;5;64minclude\u001B[39m\u001B[38;5;250m \u001B[39m\u001B[38;5;248;03m<stdint.h>\u001B[39;00m\n",
      "\u001B[38;5;64m#\u001B[39m\u001B[38;5;64minclude\u001B[39m\u001B[38;5;250m \u001B[39m\u001B[38;5;248;03m<cuda_fp16.h>\u001B[39;00m\n",
      "\u001B[38;5;64m#\u001B[39m\u001B[38;5;64minclude\u001B[39m\u001B[38;5;250m \u001B[39m\u001B[38;5;248;03m<cuda_bf16.h>\u001B[39;00m\n",
      "\u001B[38;5;64m#\u001B[39m\u001B[38;5;64minclude\u001B[39m\u001B[38;5;250m \u001B[39m\u001B[38;5;248;03m<hidet/runtime/cuda_context.h>\u001B[39;00m\n",
      "\u001B[38;5;64m#\u001B[39m\u001B[38;5;64minclude\u001B[39m\u001B[38;5;250m \u001B[39m\u001B[38;5;248;03m<hidet/runtime/cpu_context.h>\u001B[39;00m\n",
      "\u001B[38;5;19mtypedef\u001B[39m\u001B[38;5;250m \u001B[39m\u001B[38;5;37mfloat\u001B[39m\u001B[38;5;250m \u001B[39mtfloat32_t;\n",
      "\u001B[38;5;64m#\u001B[39m\u001B[38;5;64mdefine __float_to_tf32(x) (x)\u001B[39m\n",
      "\u001B[38;5;19mextern\u001B[39m\u001B[38;5;250m \u001B[39m\u001B[38;5;130m\"\u001B[39m\u001B[38;5;130mC\u001B[39m\u001B[38;5;130m\"\u001B[39m\u001B[38;5;250m \u001B[39m{\n",
      "\n",
      "\u001B[38;5;19m__host__\u001B[39m\u001B[38;5;250m \u001B[39m\u001B[38;5;37mvoid\u001B[39m\u001B[38;5;250m \u001B[39mhidet_main()\u001B[38;5;250m \u001B[39m{\n",
      "\u001B[38;5;250m  \u001B[39mprintf(\u001B[38;5;130m\"\u001B[39m\u001B[38;5;130mhello, world!\u001B[39m\u001B[38;5;130m\\n\u001B[39m\u001B[38;5;130m\"\u001B[39m);\n",
      "}\n",
      "\n",
      "}\n",
      "\n"
     ]
    }
   ],
   "source": [
    "print('Source code:\\n{}'.format(compiled_func.source(color=True)))"
   ]
  },
  {
   "cell_type": "code",
   "execution_count": 6,
   "metadata": {},
   "outputs": [
    {
     "name": "stdout",
     "output_type": "stream",
     "text": [
      "Run the compiled program:\n",
      "hello, world!\n"
     ]
    }
   ],
   "source": [
    "print('Run the compiled program:')\n",
    "compiled_func()"
   ]
  }
 ],
 "metadata": {
  "kernelspec": {
   "display_name": "Python 3 (ipykernel)",
   "language": "python",
   "name": "python3"
  },
  "language_info": {
   "codemirror_mode": {
    "name": "ipython",
    "version": 3
   },
   "file_extension": ".py",
   "mimetype": "text/x-python",
   "name": "python",
   "nbconvert_exporter": "python",
   "pygments_lexer": "ipython3",
   "version": "3.8.0"
  }
 },
 "nbformat": 4,
 "nbformat_minor": 1
}
