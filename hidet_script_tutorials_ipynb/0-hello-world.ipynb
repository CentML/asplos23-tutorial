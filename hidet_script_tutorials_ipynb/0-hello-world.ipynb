{
 "cells": [
  {
   "cell_type": "code",
   "execution_count": 1,
   "outputs": [],
   "source": [
    "%%capture\n",
    "%pip install wurlitzer Pygments\n",
    "%load_ext wurlitzer"
   ],
   "metadata": {
    "collapsed": false
   }
  },
  {
   "cell_type": "code",
   "execution_count": 2,
   "outputs": [
    {
     "name": "stdout",
     "output_type": "stream",
     "text": [
      "IRModule:\n",
      "def main fn()\n",
      "    # func_kind: host_kernel\n",
      "    printf(\"hello, world!\\n\");\n",
      "\n"
     ]
    }
   ],
   "source": [
    "import hidet\n",
    "from hidet.lang import printf, attr\n",
    "\n",
    "with hidet.script_module() as script_module:\n",
    "    @hidet.script\n",
    "    def main():\n",
    "        attr.func_kind = 'host_kernel'\n",
    "        printf('hello, world!\\n')\n",
    "\n",
    "# get the ir module that contains the defined function\n",
    "ir_module = script_module.ir_module()\n",
    "print('IRModule:')\n",
    "print(str(ir_module).strip())    # hidet.ir.IRModule\n",
    "print()"
   ],
   "metadata": {
    "collapsed": false
   }
  },
  {
   "cell_type": "code",
   "execution_count": 3,
   "outputs": [
    {
     "name": "stdout",
     "output_type": "stream",
     "text": [
      "        Source path: \"./outs/ir_module/1ba570cf9a404d0f/source.cu\"\n",
      "   Compiled library: \"./outs/ir_module/1ba570cf9a404d0f/lib.so\"\n"
     ]
    }
   ],
   "source": [
    "# compile the ir module to a dynamic library and load it into a python callable\n",
    "compiled_func = hidet.driver.build_ir_module(ir_module, func_name='main')\n",
    "print('        Source path: \"{}\"'.format(compiled_func.src_path))\n",
    "print('   Compiled library: \"{}\"'.format(compiled_func.lib_path))"
   ],
   "metadata": {
    "collapsed": false
   }
  },
  {
   "cell_type": "code",
   "execution_count": 4,
   "outputs": [
    {
     "name": "stdout",
     "output_type": "stream",
     "text": [
      "Source code:\n",
      "\u001B[38;5;64m#\u001B[39m\u001B[38;5;64minclude\u001B[39m\u001B[38;5;250m \u001B[39m\u001B[38;5;248;03m<stdint.h>\u001B[39;00m\n",
      "\u001B[38;5;64m#\u001B[39m\u001B[38;5;64minclude\u001B[39m\u001B[38;5;250m \u001B[39m\u001B[38;5;248;03m<cuda_fp16.h>\u001B[39;00m\n",
      "\u001B[38;5;64m#\u001B[39m\u001B[38;5;64minclude\u001B[39m\u001B[38;5;250m \u001B[39m\u001B[38;5;248;03m<cuda_bf16.h>\u001B[39;00m\n",
      "\u001B[38;5;64m#\u001B[39m\u001B[38;5;64minclude\u001B[39m\u001B[38;5;250m \u001B[39m\u001B[38;5;248;03m<hidet/runtime/cuda_context.h>\u001B[39;00m\n",
      "\u001B[38;5;64m#\u001B[39m\u001B[38;5;64minclude\u001B[39m\u001B[38;5;250m \u001B[39m\u001B[38;5;248;03m<hidet/runtime/cpu_context.h>\u001B[39;00m\n",
      "\u001B[38;5;19mtypedef\u001B[39m\u001B[38;5;250m \u001B[39m\u001B[38;5;37mfloat\u001B[39m\u001B[38;5;250m \u001B[39mtfloat32_t;\n",
      "\u001B[38;5;64m#\u001B[39m\u001B[38;5;64mdefine __float_to_tf32(x) (x)\u001B[39m\n",
      "\u001B[38;5;19mextern\u001B[39m\u001B[38;5;250m \u001B[39m\u001B[38;5;130m\"\u001B[39m\u001B[38;5;130mC\u001B[39m\u001B[38;5;130m\"\u001B[39m\u001B[38;5;250m \u001B[39m{\n",
      "\n",
      "\u001B[38;5;19m__host__\u001B[39m\u001B[38;5;250m \u001B[39m\u001B[38;5;37mvoid\u001B[39m\u001B[38;5;250m \u001B[39mhidet_main()\u001B[38;5;250m \u001B[39m{\n",
      "\u001B[38;5;250m  \u001B[39mprintf(\u001B[38;5;130m\"\u001B[39m\u001B[38;5;130mhello, world!\u001B[39m\u001B[38;5;130m\\n\u001B[39m\u001B[38;5;130m\"\u001B[39m);\n",
      "}\n",
      "\n",
      "}\n",
      "\n"
     ]
    }
   ],
   "source": [
    "print('Source code:\\n{}'.format(compiled_func.source(color=True)))"
   ],
   "metadata": {
    "collapsed": false
   }
  },
  {
   "cell_type": "code",
   "execution_count": 5,
   "outputs": [
    {
     "name": "stdout",
     "output_type": "stream",
     "text": [
      "Run the compiled program:\n",
      "hello, world!\n"
     ]
    }
   ],
   "source": [
    "print('Run the compiled program:')\n",
    "compiled_func()"
   ],
   "metadata": {
    "collapsed": false
   }
  }
 ],
 "metadata": {
  "kernelspec": {
   "display_name": "Python 3",
   "language": "python",
   "name": "python3"
  },
  "language_info": {
   "codemirror_mode": {
    "name": "ipython",
    "version": 2
   },
   "file_extension": ".py",
   "mimetype": "text/x-python",
   "name": "python",
   "nbconvert_exporter": "python",
   "pygments_lexer": "ipython2",
   "version": "2.7.6"
  }
 },
 "nbformat": 4,
 "nbformat_minor": 0
}
