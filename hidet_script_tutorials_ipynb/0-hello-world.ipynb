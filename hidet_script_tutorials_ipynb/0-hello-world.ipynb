{
 "cells": [
  {
   "cell_type": "code",
   "execution_count": 1,
   "outputs": [],
   "source": [
    "%%capture\n",
    "%pip install wurlitzer\n",
    "%load_ext wurlitzer"
   ],
   "metadata": {
    "collapsed": false
   }
  },
  {
   "cell_type": "code",
   "execution_count": 2,
   "outputs": [
    {
     "name": "stdout",
     "output_type": "stream",
     "text": [
      "IRModule:\n",
      "def main fn()\n",
      "    # func_kind: host_kernel\n",
      "    printf(\"hello, world!\\n\");\n",
      "\n",
      "Compiled function at: ./outs/ir_module/1ba570cf9a404d0f/lib.so\n",
      "<hidet.runtime.module.CompiledFunction object at 0x7f4cb9dcbd00>\n",
      "\n",
      "Run the compiled program:\n",
      "hello, world!\n"
     ]
    }
   ],
   "source": [
    "import hidet\n",
    "\n",
    "def hello_world():\n",
    "    from hidet.lang import printf, attr\n",
    "\n",
    "    with hidet.script_module() as script_module:\n",
    "        @hidet.script\n",
    "        def main():\n",
    "            attr.func_kind = 'host_kernel'\n",
    "            printf('hello, world!\\n')\n",
    "\n",
    "    # get the ir module that contains the defined function\n",
    "    ir_module = script_module.ir_module()\n",
    "    print('IRModule:')\n",
    "    print(str(ir_module).strip())    # hidet.ir.IRModule\n",
    "    print()\n",
    "\n",
    "    # compile the ir module to a dynamic library and load it into a python callable\n",
    "    compiled_func = hidet.driver.build_ir_module(ir_module, func_name='main')\n",
    "    print('Compiled function at: \"{}\"'.format(compiled_func.lib_path))\n",
    "    print(compiled_func)  # hidet.runtime.CompiledFunction\n",
    "    print()\n",
    "\n",
    "    return compiled_func\n",
    "\n",
    "func = hello_world()\n",
    "print('Run the compiled program:')\n",
    "func()"
   ],
   "metadata": {
    "collapsed": false
   }
  }
 ],
 "metadata": {
  "kernelspec": {
   "display_name": "Python 3",
   "language": "python",
   "name": "python3"
  },
  "language_info": {
   "codemirror_mode": {
    "name": "ipython",
    "version": 2
   },
   "file_extension": ".py",
   "mimetype": "text/x-python",
   "name": "python",
   "nbconvert_exporter": "python",
   "pygments_lexer": "ipython2",
   "version": "2.7.6"
  }
 },
 "nbformat": 4,
 "nbformat_minor": 0
}
