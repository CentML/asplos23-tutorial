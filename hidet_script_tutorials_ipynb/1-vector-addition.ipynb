{
 "cells": [
  {
   "cell_type": "markdown",
   "metadata": {},
   "source": [
    "# Vector Addition\n",
    "\n",
    "In this example, we will learn how to implement a vector addition kernel in hidet script. \n"
   ]
  },
  {
   "cell_type": "code",
   "execution_count": 3,
   "metadata": {},
   "outputs": [
    {
     "name": "stdout",
     "output_type": "stream",
     "text": [
      "\u001b[38;5;64m#\u001b[39m\u001b[38;5;64minclude\u001b[39m\u001b[38;5;250m \u001b[39m\u001b[38;5;248;03m<stdint.h>\u001b[39;00m\n",
      "\u001b[38;5;64m#\u001b[39m\u001b[38;5;64minclude\u001b[39m\u001b[38;5;250m \u001b[39m\u001b[38;5;248;03m<cuda_fp16.h>\u001b[39;00m\n",
      "\u001b[38;5;64m#\u001b[39m\u001b[38;5;64minclude\u001b[39m\u001b[38;5;250m \u001b[39m\u001b[38;5;248;03m<cuda_bf16.h>\u001b[39;00m\n",
      "\u001b[38;5;64m#\u001b[39m\u001b[38;5;64minclude\u001b[39m\u001b[38;5;250m \u001b[39m\u001b[38;5;248;03m<hidet/runtime/cuda_context.h>\u001b[39;00m\n",
      "\u001b[38;5;64m#\u001b[39m\u001b[38;5;64minclude\u001b[39m\u001b[38;5;250m \u001b[39m\u001b[38;5;248;03m<hidet/runtime/cpu_context.h>\u001b[39;00m\n",
      "\u001b[38;5;19mtypedef\u001b[39m\u001b[38;5;250m \u001b[39m\u001b[38;5;37mfloat\u001b[39m\u001b[38;5;250m \u001b[39mtfloat32_t;\n",
      "\u001b[38;5;64m#\u001b[39m\u001b[38;5;64mdefine __float_to_tf32(x) (x)\u001b[39m\n",
      "\u001b[38;5;19mextern\u001b[39m\u001b[38;5;250m \u001b[39m\u001b[38;5;130m\"\u001b[39m\u001b[38;5;130mC\u001b[39m\u001b[38;5;130m\"\u001b[39m\u001b[38;5;250m \u001b[39m{\n",
      "\n",
      "\u001b[38;5;19m__global__\u001b[39m\u001b[38;5;250m \u001b[39m\u001b[38;5;37mvoid\u001b[39m\u001b[38;5;250m \u001b[39m__launch_bounds__(\u001b[38;5;30m256\u001b[39m)\u001b[38;5;250m \u001b[39mhidet_kernel(\u001b[38;5;37mfloat\u001b[39m\u001b[38;5;250m \u001b[39m*\u001b[38;5;250m \u001b[39m\u001b[38;5;37m__restrict__\u001b[39m\u001b[38;5;250m \u001b[39ma,\u001b[38;5;250m \u001b[39m\u001b[38;5;37mfloat\u001b[39m\u001b[38;5;250m \u001b[39m*\u001b[38;5;250m \u001b[39m\u001b[38;5;37m__restrict__\u001b[39m\u001b[38;5;250m \u001b[39mb,\u001b[38;5;250m \u001b[39m\u001b[38;5;37mfloat\u001b[39m\u001b[38;5;250m \u001b[39m*\u001b[38;5;250m \u001b[39m\u001b[38;5;37m__restrict__\u001b[39m\u001b[38;5;250m \u001b[39mc)\u001b[38;5;250m \u001b[39m{\n",
      "\u001b[38;5;250m  \u001b[39m\u001b[38;5;19mif\u001b[39m\u001b[38;5;250m \u001b[39m((\u001b[38;5;37mint\u001b[39m)\u001b[38;5;37mthreadIdx\u001b[39m.x\u001b[38;5;250m \u001b[39m<\u001b[38;5;250m \u001b[39m\u001b[38;5;30m5\u001b[39m)\u001b[38;5;250m \u001b[39m{\n",
      "\u001b[38;5;250m    \u001b[39mc[(\u001b[38;5;37mint\u001b[39m)\u001b[38;5;37mthreadIdx\u001b[39m.x]\u001b[38;5;250m \u001b[39m=\u001b[38;5;250m \u001b[39m(a[(\u001b[38;5;37mint\u001b[39m)\u001b[38;5;37mthreadIdx\u001b[39m.x]\u001b[38;5;250m \u001b[39m+\u001b[38;5;250m \u001b[39mb[(\u001b[38;5;37mint\u001b[39m)\u001b[38;5;37mthreadIdx\u001b[39m.x]);\n",
      "\u001b[38;5;250m  \u001b[39m}\u001b[38;5;250m \u001b[39m\n",
      "}\n",
      "\n",
      "\u001b[38;5;19m__host__\u001b[39m\u001b[38;5;250m \u001b[39m\u001b[38;5;37mvoid\u001b[39m\u001b[38;5;250m \u001b[39mhidet_add(\u001b[38;5;37mint32_t\u001b[39m\u001b[38;5;250m \u001b[39mnum_args,\u001b[38;5;250m \u001b[39m\u001b[38;5;37mint32_t\u001b[39m\u001b[38;5;250m \u001b[39m*\u001b[38;5;250m \u001b[39m\u001b[38;5;37m__restrict__\u001b[39m\u001b[38;5;250m \u001b[39marg_types,\u001b[38;5;250m \u001b[39m\u001b[38;5;37mvoid\u001b[39m*\u001b[38;5;250m \u001b[39m*\u001b[38;5;250m \u001b[39m\u001b[38;5;37m__restrict__\u001b[39m\u001b[38;5;250m \u001b[39margs)\u001b[38;5;250m \u001b[39m{\n",
      "\u001b[38;5;250m  \u001b[39massert(((\u001b[38;5;37mvoid\u001b[39m)\u001b[38;5;130m\"\u001b[39m\u001b[38;5;130mExpect 3 arguments\u001b[39m\u001b[38;5;130m\"\u001b[39m,\u001b[38;5;250m \u001b[39m(num_args\u001b[38;5;250m \u001b[39m==\u001b[38;5;250m \u001b[39m\u001b[38;5;30m3\u001b[39m)));\n",
      "\u001b[38;5;250m  \u001b[39massert(((\u001b[38;5;37mvoid\u001b[39m)\u001b[38;5;130m\"\u001b[39m\u001b[38;5;130mThe 0-th argument should be TensorPointerType(tensor(float32, [5]))\u001b[39m\u001b[38;5;130m\"\u001b[39m,\u001b[38;5;250m \u001b[39m(arg_types[\u001b[38;5;30m0\u001b[39m]\u001b[38;5;250m \u001b[39m==\u001b[38;5;250m \u001b[39m\u001b[38;5;30m3\u001b[39m)));\n",
      "\u001b[38;5;250m  \u001b[39massert(((\u001b[38;5;37mvoid\u001b[39m)\u001b[38;5;130m\"\u001b[39m\u001b[38;5;130mThe 1-th argument should be TensorPointerType(tensor(float32, [5]))\u001b[39m\u001b[38;5;130m\"\u001b[39m,\u001b[38;5;250m \u001b[39m(arg_types[\u001b[38;5;30m1\u001b[39m]\u001b[38;5;250m \u001b[39m==\u001b[38;5;250m \u001b[39m\u001b[38;5;30m3\u001b[39m)));\n",
      "\u001b[38;5;250m  \u001b[39massert(((\u001b[38;5;37mvoid\u001b[39m)\u001b[38;5;130m\"\u001b[39m\u001b[38;5;130mThe 2-th argument should be TensorPointerType(tensor(float32, [5]))\u001b[39m\u001b[38;5;130m\"\u001b[39m,\u001b[38;5;250m \u001b[39m(arg_types[\u001b[38;5;30m2\u001b[39m]\u001b[38;5;250m \u001b[39m==\u001b[38;5;250m \u001b[39m\u001b[38;5;30m3\u001b[39m)));\n",
      "\u001b[38;5;250m  \u001b[39mhidet_kernel<<<\u001b[38;5;37mdim3\u001b[39m(\u001b[38;5;30m1\u001b[39m,\u001b[38;5;250m \u001b[39m\u001b[38;5;30m1\u001b[39m,\u001b[38;5;250m \u001b[39m\u001b[38;5;30m1\u001b[39m),\u001b[38;5;250m \u001b[39m\u001b[38;5;37mdim3\u001b[39m(\u001b[38;5;30m256\u001b[39m,\u001b[38;5;250m \u001b[39m\u001b[38;5;30m1\u001b[39m,\u001b[38;5;250m \u001b[39m\u001b[38;5;30m1\u001b[39m),\u001b[38;5;250m \u001b[39m\u001b[38;5;30m0\u001b[39m,\u001b[38;5;250m \u001b[39m(cudaStream_t)get_cuda_stream()>>>(((\u001b[38;5;37mfloat\u001b[39m*)(args[\u001b[38;5;30m0\u001b[39m])),\u001b[38;5;250m \u001b[39m((\u001b[38;5;37mfloat\u001b[39m*)(args[\u001b[38;5;30m1\u001b[39m])),\u001b[38;5;250m \u001b[39m((\u001b[38;5;37mfloat\u001b[39m*)(args[\u001b[38;5;30m2\u001b[39m])));\n",
      "}\n",
      "\n",
      "}\n",
      "\n"
     ]
    }
   ],
   "source": [
    "import hidet\n",
    "\n",
    "def vector_addition(n):\n",
    "    # the hidet.lang module is the submodule that implements hidet script\n",
    "    from hidet.lang import attr, f32\n",
    "    \n",
    "    # import cuda specific extern variables\n",
    "    from hidet.lang.cuda import threadIdx, blockIdx, blockDim\n",
    "    \n",
    "    from hidet.transforms.tools import add_packed_func\n",
    "\n",
    "    with hidet.script_module() as script_module:\n",
    "\n",
    "        @hidet.script\n",
    "        def kernel(a: f32[n], b: f32[n], c: f32[n]):\n",
    "            \n",
    "            # mark this function as a cuda kernel\n",
    "            attr.func_kind = 'cuda_kernel'\n",
    "            \n",
    "            # set the block dimension and grid dimensions\n",
    "            attr.cuda_block_dim = 256\n",
    "            attr.cuda_grid_dim = (n + 255) / 256\n",
    "            \n",
    "            # get the index of the thread among all threads\n",
    "            idx = threadIdx.x + blockIdx.x * blockDim.x\n",
    "            \n",
    "            if idx < n:\n",
    "                c[idx] = a[idx] + b[idx]\n",
    "\n",
    "    ir_module = script_module.ir_module()\n",
    "    \n",
    "    # because we can not run the cuda kernel, we creates a packed function to launch it\n",
    "    add_packed_func(ir_module, func=kernel, pack_func_name='add')\n",
    "    \n",
    "    return hidet.driver.build_ir_module(ir_module, func_name='add')\n",
    "\n",
    "n = 5\n",
    "add_func = vector_addition(n)\n",
    "print(add_func.source(color=True))"
   ]
  },
  {
   "cell_type": "code",
   "execution_count": 2,
   "metadata": {},
   "outputs": [
    {
     "name": "stdout",
     "output_type": "stream",
     "text": [
      "Tensor(shape=(5,), dtype='float32', device='cuda:0')\n",
      "[2. 0. 2. 0. 1.]\n",
      "Tensor(shape=(5,), dtype='float32', device='cuda:0')\n",
      "[0. 1. 1. 2. 2.]\n",
      "Tensor(shape=(5,), dtype='float32', device='cuda:0')\n",
      "[2. 1. 3. 2. 3.]\n"
     ]
    }
   ],
   "source": [
    "a = hidet.randint(low=0, high=3, shape=[n]).to('float32').cuda()\n",
    "b = hidet.randint(low=0, high=3, shape=[n]).to('float32').cuda()\n",
    "c = hidet.randn([n]).cuda()\n",
    "print(a)\n",
    "print(b)\n",
    "add_func(a, b, c)\n",
    "print(c)"
   ]
  }
 ],
 "metadata": {
  "kernelspec": {
   "display_name": "Python 3 (ipykernel)",
   "language": "python",
   "name": "python3"
  },
  "language_info": {
   "codemirror_mode": {
    "name": "ipython",
    "version": 3
   },
   "file_extension": ".py",
   "mimetype": "text/x-python",
   "name": "python",
   "nbconvert_exporter": "python",
   "pygments_lexer": "ipython3",
   "version": "3.8.0"
  }
 },
 "nbformat": 4,
 "nbformat_minor": 1
}
