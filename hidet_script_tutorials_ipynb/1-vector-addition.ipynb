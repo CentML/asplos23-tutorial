{
 "cells": [
  {
   "cell_type": "code",
   "execution_count": 1,
   "metadata": {
    "collapsed": true
   },
   "outputs": [
    {
     "name": "stdout",
     "output_type": "stream",
     "text": [
      "\n",
      "def kernel fn(a: TensorPointerType(tensor(float32, [5])), \n",
      "   b: TensorPointerType(tensor(float32, [5])), \n",
      "   c: TensorPointerType(tensor(float32, [5])))\n",
      "    # func_kind: cuda_kernel\n",
      "    # cuda_block_dim: 256\n",
      "    # cuda_grid_dim: 1\n",
      "    declare idx: int32 = (threadIdx.x + (blockIdx.x * blockIdx.x))\n",
      "    if (idx < 5)\n",
      "        c[idx] = (a[idx] + b[idx])\n",
      "\n",
      "def add fn(num_args: int32, \n",
      "   arg_types: PointerType(int32), \n",
      "   args: PointerType(PointerType(VoidType)))\n",
      "    # func_name: add\n",
      "    # func_kind: packed_func\n",
      "    # packed_func: kernel\n",
      "    assert((num_args == 3), Expect 3 arguments)\n",
      "    assert((arg_types[0] == 3), The 0-th argument should be TensorPointerType(tensor(float32, [5])))\n",
      "    declare a: PointerType(float32) = cast(PointerType(float32), args[0])\n",
      "    assert((arg_types[1] == 3), The 1-th argument should be TensorPointerType(tensor(float32, [5])))\n",
      "    declare b: PointerType(float32) = cast(PointerType(float32), args[1])\n",
      "    assert((arg_types[2] == 3), The 2-th argument should be TensorPointerType(tensor(float32, [5])))\n",
      "    declare c: PointerType(float32) = cast(PointerType(float32), args[2])kernel<<<dim3(1, 1, 1), dim3(256, 1, 1), 0>>>(a, b, c);\n",
      "\n",
      "\n"
     ]
    }
   ],
   "source": [
    "import hidet\n",
    "\n",
    "def vector_addition(n):\n",
    "    from hidet.lang import attr, f32\n",
    "    from hidet.lang.cuda import threadIdx, blockIdx, blockDim\n",
    "    from hidet.transforms.tools import add_packed_func\n",
    "\n",
    "    with hidet.script_module() as script_module:\n",
    "\n",
    "        @hidet.script\n",
    "        def kernel(a: f32[n], b: f32[n], c: f32[n]):\n",
    "            attr.func_kind = 'cuda_kernel'\n",
    "            attr.cuda_block_dim = 256\n",
    "            attr.cuda_grid_dim = (n + 255) / 256\n",
    "            idx = threadIdx.x + blockIdx.x * blockDim.x\n",
    "            if idx < n:\n",
    "                c[idx] = a[idx] + b[idx]\n",
    "\n",
    "    ir_module = script_module.ir_module()\n",
    "    add_packed_func(ir_module, func=kernel, pack_func_name='add')\n",
    "    print(ir_module)\n",
    "\n",
    "    return hidet.driver.build_ir_module(ir_module, func_name='add')\n",
    "\n",
    "\n",
    "n = 5\n",
    "a = hidet.randint(low=0, high=3, shape=[n]).to('float32').cuda()\n",
    "b = hidet.randint(low=0, high=3, shape=[n]).to('float32').cuda()\n",
    "c = hidet.randn([n]).cuda()\n",
    "add_func = vector_addition(n)"
   ]
  },
  {
   "cell_type": "code",
   "execution_count": 2,
   "outputs": [
    {
     "name": "stdout",
     "output_type": "stream",
     "text": [
      "Tensor(shape=(5,), dtype='float32', device='cuda:0')\n",
      "[1. 1. 2. 0. 2.]\n",
      "Tensor(shape=(5,), dtype='float32', device='cuda:0')\n",
      "[1. 1. 0. 0. 2.]\n",
      "Tensor(shape=(5,), dtype='float32', device='cuda:0')\n",
      "[2. 2. 2. 0. 4.]\n"
     ]
    }
   ],
   "source": [
    "print(a)\n",
    "print(b)\n",
    "add_func(a, b, c)\n",
    "print(c)"
   ],
   "metadata": {
    "collapsed": false
   }
  }
 ],
 "metadata": {
  "kernelspec": {
   "display_name": "Python 3",
   "language": "python",
   "name": "python3"
  },
  "language_info": {
   "codemirror_mode": {
    "name": "ipython",
    "version": 2
   },
   "file_extension": ".py",
   "mimetype": "text/x-python",
   "name": "python",
   "nbconvert_exporter": "python",
   "pygments_lexer": "ipython2",
   "version": "2.7.6"
  }
 },
 "nbformat": 4,
 "nbformat_minor": 0
}
