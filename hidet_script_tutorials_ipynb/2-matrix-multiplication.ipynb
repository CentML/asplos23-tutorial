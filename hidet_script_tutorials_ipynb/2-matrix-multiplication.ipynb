{
 "cells": [
  {
   "cell_type": "code",
   "execution_count": 4,
   "metadata": {
    "collapsed": true
   },
   "outputs": [
    {
     "name": "stdout",
     "output_type": "stream",
     "text": [
      "\u001B[38;5;64m#\u001B[39m\u001B[38;5;64minclude\u001B[39m\u001B[38;5;250m \u001B[39m\u001B[38;5;248;03m<stdint.h>\u001B[39;00m\n",
      "\u001B[38;5;64m#\u001B[39m\u001B[38;5;64minclude\u001B[39m\u001B[38;5;250m \u001B[39m\u001B[38;5;248;03m<cuda_fp16.h>\u001B[39;00m\n",
      "\u001B[38;5;64m#\u001B[39m\u001B[38;5;64minclude\u001B[39m\u001B[38;5;250m \u001B[39m\u001B[38;5;248;03m<cuda_bf16.h>\u001B[39;00m\n",
      "\u001B[38;5;64m#\u001B[39m\u001B[38;5;64minclude\u001B[39m\u001B[38;5;250m \u001B[39m\u001B[38;5;248;03m<hidet/runtime/cuda_context.h>\u001B[39;00m\n",
      "\u001B[38;5;64m#\u001B[39m\u001B[38;5;64minclude\u001B[39m\u001B[38;5;250m \u001B[39m\u001B[38;5;248;03m<hidet/runtime/cpu_context.h>\u001B[39;00m\n",
      "\u001B[38;5;19mtypedef\u001B[39m\u001B[38;5;250m \u001B[39m\u001B[38;5;37mfloat\u001B[39m\u001B[38;5;250m \u001B[39mtfloat32_t;\n",
      "\u001B[38;5;64m#\u001B[39m\u001B[38;5;64mdefine __float_to_tf32(x) (x)\u001B[39m\n",
      "\u001B[38;5;19mextern\u001B[39m\u001B[38;5;250m \u001B[39m\u001B[38;5;130m\"\u001B[39m\u001B[38;5;130mC\u001B[39m\u001B[38;5;130m\"\u001B[39m\u001B[38;5;250m \u001B[39m{\n",
      "\n",
      "\u001B[38;5;19m__global__\u001B[39m\u001B[38;5;250m \u001B[39m\u001B[38;5;37mvoid\u001B[39m\u001B[38;5;250m \u001B[39m__launch_bounds__(\u001B[38;5;30m256\u001B[39m)\u001B[38;5;250m \u001B[39mhidet_kernel(\u001B[38;5;37mfloat\u001B[39m\u001B[38;5;250m \u001B[39m*\u001B[38;5;250m \u001B[39m\u001B[38;5;37m__restrict__\u001B[39m\u001B[38;5;250m \u001B[39ma,\u001B[38;5;250m \u001B[39m\u001B[38;5;37mfloat\u001B[39m\u001B[38;5;250m \u001B[39m*\u001B[38;5;250m \u001B[39m\u001B[38;5;37m__restrict__\u001B[39m\u001B[38;5;250m \u001B[39mb,\u001B[38;5;250m \u001B[39m\u001B[38;5;37mfloat\u001B[39m\u001B[38;5;250m \u001B[39m*\u001B[38;5;250m \u001B[39m\u001B[38;5;37m__restrict__\u001B[39m\u001B[38;5;250m \u001B[39mc)\u001B[38;5;250m \u001B[39m{\n",
      "\u001B[38;5;250m  \u001B[39m\u001B[38;5;37mint32_t\u001B[39m\u001B[38;5;250m \u001B[39mi\u001B[38;5;250m \u001B[39m=\u001B[38;5;250m \u001B[39m((\u001B[38;5;37mint\u001B[39m)\u001B[38;5;37mthreadIdx\u001B[39m.x\u001B[38;5;250m \u001B[39m+\u001B[38;5;250m \u001B[39m((\u001B[38;5;37mint\u001B[39m)\u001B[38;5;37mblockIdx\u001B[39m.x\u001B[38;5;250m \u001B[39m*\u001B[38;5;250m \u001B[39m\u001B[38;5;37mblockDim\u001B[39m.x));\n",
      "\u001B[38;5;250m  \u001B[39m\u001B[38;5;37mint32_t\u001B[39m\u001B[38;5;250m \u001B[39mj\u001B[38;5;250m \u001B[39m=\u001B[38;5;250m \u001B[39m((\u001B[38;5;37mint\u001B[39m)\u001B[38;5;37mthreadIdx\u001B[39m.y\u001B[38;5;250m \u001B[39m+\u001B[38;5;250m \u001B[39m((\u001B[38;5;37mint\u001B[39m)\u001B[38;5;37mblockIdx\u001B[39m.y\u001B[38;5;250m \u001B[39m*\u001B[38;5;250m \u001B[39m\u001B[38;5;37mblockDim\u001B[39m.y));\n",
      "\u001B[38;5;250m  \u001B[39m\u001B[38;5;19mif\u001B[39m\u001B[38;5;250m \u001B[39m((i\u001B[38;5;250m \u001B[39m<\u001B[38;5;250m \u001B[39m\u001B[38;5;30m1024\u001B[39m)\u001B[38;5;250m \u001B[39m&&\u001B[38;5;250m \u001B[39m(j\u001B[38;5;250m \u001B[39m<\u001B[38;5;250m \u001B[39m\u001B[38;5;30m1024\u001B[39m))\u001B[38;5;250m \u001B[39m{\n",
      "\u001B[38;5;250m    \u001B[39m\u001B[38;5;37mfloat\u001B[39m\u001B[38;5;250m \u001B[39macc\u001B[38;5;250m \u001B[39m=\u001B[38;5;250m \u001B[39m\u001B[38;5;30m0.0f\u001B[39m;\n",
      "\u001B[38;5;250m    \u001B[39m\u001B[38;5;19mfor\u001B[39m\u001B[38;5;250m \u001B[39m(\u001B[38;5;37mint32_t\u001B[39m\u001B[38;5;250m \u001B[39mk\u001B[38;5;250m \u001B[39m=\u001B[38;5;250m \u001B[39m\u001B[38;5;30m0\u001B[39m;\u001B[38;5;250m \u001B[39m(k\u001B[38;5;250m \u001B[39m<\u001B[38;5;250m \u001B[39m\u001B[38;5;30m1024\u001B[39m);\u001B[38;5;250m \u001B[39mk\u001B[38;5;250m \u001B[39m=\u001B[38;5;250m \u001B[39m(k\u001B[38;5;250m \u001B[39m+\u001B[38;5;250m \u001B[39m\u001B[38;5;30m1\u001B[39m))\u001B[38;5;250m \u001B[39m{\n",
      "\u001B[38;5;250m      \u001B[39macc\u001B[38;5;250m \u001B[39m=\u001B[38;5;250m \u001B[39m(acc\u001B[38;5;250m \u001B[39m+\u001B[38;5;250m \u001B[39m(a[((i\u001B[38;5;250m \u001B[39m*\u001B[38;5;250m \u001B[39m\u001B[38;5;30m1024\u001B[39m)\u001B[38;5;250m \u001B[39m+\u001B[38;5;250m \u001B[39mk)]\u001B[38;5;250m \u001B[39m*\u001B[38;5;250m \u001B[39mb[((k\u001B[38;5;250m \u001B[39m*\u001B[38;5;250m \u001B[39m\u001B[38;5;30m1024\u001B[39m)\u001B[38;5;250m \u001B[39m+\u001B[38;5;250m \u001B[39mj)]));\n",
      "\u001B[38;5;250m    \u001B[39m}\u001B[38;5;250m \u001B[39m\n",
      "\u001B[38;5;250m    \u001B[39mc[((i\u001B[38;5;250m \u001B[39m*\u001B[38;5;250m \u001B[39m\u001B[38;5;30m1024\u001B[39m)\u001B[38;5;250m \u001B[39m+\u001B[38;5;250m \u001B[39mj)]\u001B[38;5;250m \u001B[39m=\u001B[38;5;250m \u001B[39macc;\n",
      "\u001B[38;5;250m  \u001B[39m}\u001B[38;5;250m \u001B[39m\n",
      "}\n",
      "\n",
      "\u001B[38;5;19m__host__\u001B[39m\u001B[38;5;250m \u001B[39m\u001B[38;5;37mvoid\u001B[39m\u001B[38;5;250m \u001B[39mhidet_matmul(\u001B[38;5;37mint32_t\u001B[39m\u001B[38;5;250m \u001B[39mnum_args,\u001B[38;5;250m \u001B[39m\u001B[38;5;37mint32_t\u001B[39m\u001B[38;5;250m \u001B[39m*\u001B[38;5;250m \u001B[39m\u001B[38;5;37m__restrict__\u001B[39m\u001B[38;5;250m \u001B[39marg_types,\u001B[38;5;250m \u001B[39m\u001B[38;5;37mvoid\u001B[39m*\u001B[38;5;250m \u001B[39m*\u001B[38;5;250m \u001B[39m\u001B[38;5;37m__restrict__\u001B[39m\u001B[38;5;250m \u001B[39margs)\u001B[38;5;250m \u001B[39m{\n",
      "\u001B[38;5;250m  \u001B[39massert(((\u001B[38;5;37mvoid\u001B[39m)\u001B[38;5;130m\"\u001B[39m\u001B[38;5;130mExpect 3 arguments\u001B[39m\u001B[38;5;130m\"\u001B[39m,\u001B[38;5;250m \u001B[39m(num_args\u001B[38;5;250m \u001B[39m==\u001B[38;5;250m \u001B[39m\u001B[38;5;30m3\u001B[39m)));\n",
      "\u001B[38;5;250m  \u001B[39massert(((\u001B[38;5;37mvoid\u001B[39m)\u001B[38;5;130m\"\u001B[39m\u001B[38;5;130mThe 0-th argument should be TensorPointerType(tensor(float32, [1024, 1024]))\u001B[39m\u001B[38;5;130m\"\u001B[39m,\u001B[38;5;250m \u001B[39m(arg_types[\u001B[38;5;30m0\u001B[39m]\u001B[38;5;250m \u001B[39m==\u001B[38;5;250m \u001B[39m\u001B[38;5;30m3\u001B[39m)));\n",
      "\u001B[38;5;250m  \u001B[39massert(((\u001B[38;5;37mvoid\u001B[39m)\u001B[38;5;130m\"\u001B[39m\u001B[38;5;130mThe 1-th argument should be TensorPointerType(tensor(float32, [1024, 1024]))\u001B[39m\u001B[38;5;130m\"\u001B[39m,\u001B[38;5;250m \u001B[39m(arg_types[\u001B[38;5;30m1\u001B[39m]\u001B[38;5;250m \u001B[39m==\u001B[38;5;250m \u001B[39m\u001B[38;5;30m3\u001B[39m)));\n",
      "\u001B[38;5;250m  \u001B[39massert(((\u001B[38;5;37mvoid\u001B[39m)\u001B[38;5;130m\"\u001B[39m\u001B[38;5;130mThe 2-th argument should be TensorPointerType(tensor(float32, [1024, 1024]))\u001B[39m\u001B[38;5;130m\"\u001B[39m,\u001B[38;5;250m \u001B[39m(arg_types[\u001B[38;5;30m2\u001B[39m]\u001B[38;5;250m \u001B[39m==\u001B[38;5;250m \u001B[39m\u001B[38;5;30m3\u001B[39m)));\n",
      "\u001B[38;5;250m  \u001B[39mhidet_kernel<<<\u001B[38;5;37mdim3\u001B[39m(\u001B[38;5;30m64\u001B[39m,\u001B[38;5;250m \u001B[39m\u001B[38;5;30m64\u001B[39m,\u001B[38;5;250m \u001B[39m\u001B[38;5;30m1\u001B[39m),\u001B[38;5;250m \u001B[39m\u001B[38;5;37mdim3\u001B[39m(\u001B[38;5;30m16\u001B[39m,\u001B[38;5;250m \u001B[39m\u001B[38;5;30m16\u001B[39m,\u001B[38;5;250m \u001B[39m\u001B[38;5;30m1\u001B[39m),\u001B[38;5;250m \u001B[39m\u001B[38;5;30m0\u001B[39m,\u001B[38;5;250m \u001B[39m(cudaStream_t)get_cuda_stream()>>>(((\u001B[38;5;37mfloat\u001B[39m*)(args[\u001B[38;5;30m0\u001B[39m])),\u001B[38;5;250m \u001B[39m((\u001B[38;5;37mfloat\u001B[39m*)(args[\u001B[38;5;30m1\u001B[39m])),\u001B[38;5;250m \u001B[39m((\u001B[38;5;37mfloat\u001B[39m*)(args[\u001B[38;5;30m2\u001B[39m])));\n",
      "}\n",
      "\n",
      "}\n",
      "\n"
     ]
    }
   ],
   "source": [
    "import numpy as np\n",
    "import numpy.testing\n",
    "import hidet\n",
    "\n",
    "def matmul_func(m_size, n_size, k_size):\n",
    "    from hidet.lang import attr, f32\n",
    "    from hidet.lang.cuda import threadIdx, blockIdx, blockDim\n",
    "    from hidet.transforms.tools import add_packed_func\n",
    "\n",
    "    def ceil_div(a, b):\n",
    "        return (a + b - 1) // b\n",
    "\n",
    "    tile_size = 16\n",
    "\n",
    "    with hidet.script_module() as script_module:\n",
    "\n",
    "        @hidet.script\n",
    "        def kernel(\n",
    "                a: f32[m_size, k_size],\n",
    "                b: f32[k_size, n_size],\n",
    "                c: f32[m_size, n_size]\n",
    "        ):\n",
    "            attr.func_kind = 'cuda_kernel'\n",
    "            attr.cuda_block_dim = (tile_size, tile_size)\n",
    "            attr.cuda_grid_dim = ceil_div(m_size, tile_size), ceil_div(n_size, tile_size)\n",
    "            i = threadIdx.x + blockIdx.x * blockDim.x\n",
    "            j = threadIdx.y + blockIdx.y * blockDim.y\n",
    "            if i < m_size and j < n_size:\n",
    "                acc = f32(0.0)\n",
    "                for k in range(k_size):\n",
    "                    acc += a[i, k] * b[k, j]\n",
    "                c[i, j] = acc\n",
    "\n",
    "    ir_module = script_module.ir_module()\n",
    "    add_packed_func(ir_module, func=kernel, pack_func_name='matmul')\n",
    "    return hidet.driver.build_ir_module(ir_module, func_name='matmul')\n",
    "\n",
    "m_size, n_size, k_size = 1024, 1024, 1024\n",
    "matmul = matmul_func(m_size, n_size, k_size)\n",
    "print(matmul.source(color=True))"
   ]
  },
  {
   "cell_type": "code",
   "execution_count": 5,
   "outputs": [
    {
     "name": "stdout",
     "output_type": "stream",
     "text": [
      "Correctness: Pass\n"
     ]
    }
   ],
   "source": [
    "a = hidet.randn([m_size, k_size]).cuda()\n",
    "b = hidet.randn([k_size, n_size]).cuda()\n",
    "c = hidet.empty([m_size, n_size]).cuda()\n",
    "matmul(a, b, c)\n",
    "\n",
    "np_a = a.cpu().numpy()\n",
    "np_b = b.cpu().numpy()\n",
    "np_c = np.matmul(np_a, np_b)\n",
    "\n",
    "numpy.testing.assert_allclose(c.cpu().numpy(), np_c, rtol=1e-4, atol=1e-4)\n",
    "print('Correctness: Pass')"
   ],
   "metadata": {
    "collapsed": false
   }
  },
  {
   "cell_type": "code",
   "execution_count": 6,
   "outputs": [
    {
     "name": "stdout",
     "output_type": "stream",
     "text": [
      "Latency: 4.04 ms\n"
     ]
    }
   ],
   "source": [
    "latency = hidet.utils.benchmark_func(lambda: matmul(a, b, c))\n",
    "print('Latency: {:.2f} ms'.format(latency))"
   ],
   "metadata": {
    "collapsed": false
   }
  }
 ],
 "metadata": {
  "kernelspec": {
   "display_name": "Python 3",
   "language": "python",
   "name": "python3"
  },
  "language_info": {
   "codemirror_mode": {
    "name": "ipython",
    "version": 2
   },
   "file_extension": ".py",
   "mimetype": "text/x-python",
   "name": "python",
   "nbconvert_exporter": "python",
   "pygments_lexer": "ipython2",
   "version": "2.7.6"
  }
 },
 "nbformat": 4,
 "nbformat_minor": 0
}
