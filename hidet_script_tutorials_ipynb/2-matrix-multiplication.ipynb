{
 "cells": [
  {
   "cell_type": "code",
   "execution_count": 1,
   "metadata": {
    "collapsed": true
   },
   "outputs": [
    {
     "name": "stdout",
     "output_type": "stream",
     "text": [
      "Latency: 0.01 ms\n"
     ]
    }
   ],
   "source": [
    "import hidet\n",
    "\n",
    "def matmul_func(m_size, n_size, k_size):\n",
    "    from hidet.lang import attr, f32\n",
    "    from hidet.lang.cuda import threadIdx, blockIdx, blockDim\n",
    "    from hidet.transforms.tools import add_packed_func\n",
    "\n",
    "    def ceil_div(a, b):\n",
    "        return (a + b - 1) // b\n",
    "\n",
    "    tile_size = 2\n",
    "\n",
    "    with hidet.script_module() as script_module:\n",
    "\n",
    "        @hidet.script\n",
    "        def kernel(\n",
    "                a: f32[m_size, k_size],\n",
    "                b: f32[k_size, n_size],\n",
    "                c: f32[m_size, n_size]\n",
    "        ):\n",
    "            attr.func_kind = 'cuda_kernel'\n",
    "            attr.cuda_block_dim = (tile_size, tile_size)\n",
    "            attr.cuda_grid_dim = ceil_div(m_size, tile_size), ceil_div(n_size, tile_size)\n",
    "            i = threadIdx.x + blockIdx.x * blockDim.x\n",
    "            j = threadIdx.y + blockIdx.y * blockDim.y\n",
    "            if i < m_size and j < n_size:\n",
    "                acc = f32(0.0)\n",
    "                for k in range(k_size):\n",
    "                    acc += a[i, k] * b[k, j]\n",
    "                c[i, j] = acc\n",
    "\n",
    "    ir_module = script_module.ir_module()\n",
    "    add_packed_func(ir_module, func=kernel, pack_func_name='matmul')\n",
    "    return hidet.driver.build_ir_module(ir_module, func_name='matmul')\n",
    "\n",
    "m_size, n_size, k_size = 5, 5, 5\n",
    "matmul = matmul_func(m_size, n_size, k_size)\n",
    "a = hidet.randn([m_size, k_size]).cuda()\n",
    "b = hidet.randn([k_size, n_size]).cuda()\n",
    "c = hidet.empty([m_size, n_size]).cuda()\n",
    "\n",
    "latency = hidet.utils.benchmark_func(lambda: matmul(a, b, c))\n",
    "print('Latency: {:.2f} ms'.format(latency))"
   ]
  },
  {
   "cell_type": "code",
   "execution_count": 3,
   "outputs": [],
   "source": [
    "import numpy as np\n",
    "import numpy.testing\n",
    "\n",
    "np_a = a.cpu().numpy()\n",
    "np_b = b.cpu().numpy()\n",
    "np_c = np.matmul(np_a, np_b)\n",
    "numpy.testing.assert_allclose(c.cpu().numpy(), np_c, rtol=1e-5, atol=1e-5)"
   ],
   "metadata": {
    "collapsed": false
   }
  },
  {
   "cell_type": "code",
   "execution_count": 2,
   "outputs": [],
   "source": [],
   "metadata": {
    "collapsed": false
   }
  }
 ],
 "metadata": {
  "kernelspec": {
   "display_name": "Python 3",
   "language": "python",
   "name": "python3"
  },
  "language_info": {
   "codemirror_mode": {
    "name": "ipython",
    "version": 2
   },
   "file_extension": ".py",
   "mimetype": "text/x-python",
   "name": "python",
   "nbconvert_exporter": "python",
   "pygments_lexer": "ipython2",
   "version": "2.7.6"
  }
 },
 "nbformat": 4,
 "nbformat_minor": 0
}
