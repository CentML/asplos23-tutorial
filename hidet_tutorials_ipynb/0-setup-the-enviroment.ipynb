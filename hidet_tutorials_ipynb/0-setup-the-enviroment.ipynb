{
 "cells": [
  {
   "cell_type": "markdown",
   "source": [
    "# Getting Started\n",
    "\n",
    "Wellcome to the Hidet tutorial!\n",
    "\n",
    "This tutorial will show you\n",
    "- How to use Hidet to optimize the performance of a model\n",
    "- How to define a model with Hidet's API\n",
    "- How to add a new operator to Hidet\n",
    "- How to write tensor programs with Hidet Script\n",
    "\n",
    "More documentation can be found at [Hidet's website](https://docs.hidet.org).\n",
    "\n",
    "## Installation\n",
    "\n",
    "Hidet is available on PyPI. You can install it with pip:\n",
    "\n",
    "```bash\n",
    "$ pip install hidet\n",
    "```\n",
    "\n",
    "Hidet only supports Python 3.8+ and currently only supports on Linux platform with CUDA Toolkit installed.\n",
    "\n",
    "To check if Hidet is installed and functions correctly, you can run the following command:\n",
    "\n",
    "```bash\n",
    "$ python -c \"import hidet; print(hidet.randn([3, 4]) + 1)\"\n",
    "```"
   ],
   "metadata": {
    "collapsed": false
   }
  },
  {
   "cell_type": "code",
   "execution_count": 2,
   "outputs": [
    {
     "name": "stderr",
     "output_type": "stream",
     "text": [
      "Compiling cpu task \u001B[92madds(x=float32[3, 4])\u001B[0m...\n"
     ]
    },
    {
     "name": "stdout",
     "output_type": "stream",
     "text": [
      "Tensor(shape=(3, 4), dtype='float32', device='cpu')\n",
      "[[ 0.28354216  1.2027488   1.3574166   0.891248  ]\n",
      " [-0.35481405  1.9991599   0.03374588  1.0088147 ]\n",
      " [ 3.595424   -0.74697876  0.9503193   0.23587024]]\n"
     ]
    }
   ],
   "source": [
    "import hidet\n",
    "print(hidet.randn([3, 4]) + 1)"
   ],
   "metadata": {
    "collapsed": false
   }
  }
 ],
 "metadata": {
  "kernelspec": {
   "display_name": "Python 3",
   "language": "python",
   "name": "python3"
  },
  "language_info": {
   "codemirror_mode": {
    "name": "ipython",
    "version": 2
   },
   "file_extension": ".py",
   "mimetype": "text/x-python",
   "name": "python",
   "nbconvert_exporter": "python",
   "pygments_lexer": "ipython2",
   "version": "2.7.6"
  }
 },
 "nbformat": 4,
 "nbformat_minor": 0
}
