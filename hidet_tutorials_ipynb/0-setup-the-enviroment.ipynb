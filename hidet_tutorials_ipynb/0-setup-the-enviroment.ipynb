{
 "cells": [
  {
   "cell_type": "markdown",
   "metadata": {},
   "source": [
    "# Getting Started\n",
    "\n",
    "Wellcome to the Hidet tutorial!\n",
    "\n",
    "This tutorial will show you\n",
    "- How to use Hidet to optimize the performance of a model\n",
    "- How to define a model with Hidet's API\n",
    "- How to add a new operator to Hidet\n",
    "- How to write tensor programs with Hidet Script\n",
    "\n",
    "More documentation can be found at [Hidet's website](https://docs.hidet.org).\n",
    "\n",
    "## 1. Run the Tutorial as a Jupyter Notebook\n",
    "\n",
    "If you wish to play along with the tutorial notebook, we recommend that you launch a jupyter notebook.\n",
    "\n",
    "```bash\n",
    "# create a python virtual env\n",
    "virtualenv hidet-tutorial && source hidet-tutorial/bin/activate\n",
    "\n",
    "# install jupyter notebook\n",
    "pip install notebook\n",
    "\n",
    "# install dependency of this tutorial\n",
    "pip install torch torchaudio torchvision wurlitzer Pygments\n",
    "\n",
    "# install hidet\n",
    "pip install hidet\n",
    "\n",
    "# launch a jupyter notebook \n",
    "jupyter notebook --port 8888 --ip 0.0.0.0\n",
    "```\n",
    "\n",
    "### 1.1 For the server provided by workshop\n",
    "\n",
    "If you are using a VM provided by the workshop, simply visit `<ip of the machine>:8888`\n",
    "\n",
    "You will be asked to provide a token, look for the token in the output of the `jupyter` command above.\n",
    "\n",
    "### 1.2 For your own server\n",
    "\n",
    "If you are using you own remote CUDA capable machine, perform a port-forwarding \n",
    "```\n",
    "ssh -NL 8888:localhost:8888 <user>@<remote>\n",
    "```\n",
    "and open http://127.0.0.1:8888\n",
    "\n",
    "## 2. Open the notebook\n",
    "\n",
    "You should have already cloned the GitHub repository for this tutorial (https://github.com/CentML/asplos23-tutorial). You can find two subdirectories that contains the notebooks:\n",
    "- Hidet usage tutorial: `asplos23-tutorial/hidet_tutorials_ipynb/`\n",
    "- Hidet script tutorial: `asplos23-tutorial/hidet_script_tutorials_ipynb/`\n",
    "\n",
    "To check if Hidet is installed and functions correctly, you can run the following jupyter cell:"
   ]
  },
  {
   "cell_type": "code",
   "execution_count": 1,
   "metadata": {},
   "outputs": [
    {
     "name": "stderr",
     "output_type": "stream",
     "text": [
      "Compiling cpu task \u001b[92madds(x=float32[3, 4])\u001b[0m...\n"
     ]
    },
    {
     "name": "stdout",
     "output_type": "stream",
     "text": [
      "Tensor(shape=(3, 4), dtype='float32', device='cpu')\n",
      "[[2.4308946  1.0857943  0.94579965 0.20885205]\n",
      " [0.43885875 0.2745815  1.453223   2.7053485 ]\n",
      " [0.5086057  0.3385288  1.5116855  2.1649857 ]]\n"
     ]
    }
   ],
   "source": [
    "import hidet\n",
    "print(hidet.randn([3, 4]) + 1)"
   ]
  }
 ],
 "metadata": {
  "kernelspec": {
   "display_name": "Python 3 (ipykernel)",
   "language": "python",
   "name": "python3"
  },
  "language_info": {
   "codemirror_mode": {
    "name": "ipython",
    "version": 3
   },
   "file_extension": ".py",
   "mimetype": "text/x-python",
   "name": "python",
   "nbconvert_exporter": "python",
   "pygments_lexer": "ipython3",
   "version": "3.8.0"
  }
 },
 "nbformat": 4,
 "nbformat_minor": 1
}
