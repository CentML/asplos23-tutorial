{
 "cells": [
  {
   "cell_type": "markdown",
   "metadata": {},
   "source": [
    "# Getting Started\n",
    "\n",
    "Wellcome to the Hidet tutorial!\n",
    "\n",
    "This tutorial will show you\n",
    "- How to use Hidet to optimize the performance of a model\n",
    "- How to define a model with Hidet's API\n",
    "- How to add a new operator to Hidet\n",
    "- How to write tensor programs with Hidet Script\n",
    "\n",
    "More documentation can be found at [Hidet's website](https://docs.hidet.org).\n",
    "\n",
    "## Installation\n",
    "\n",
    "Hidet is available on PyPI. You can install it with pip:\n",
    "\n",
    "```bash\n",
    "$ pip install hidet notebook\n",
    "```\n",
    "\n",
    "Hidet only supports Python 3.8+ and currently only supports on Linux platform with CUDA Toolkit installed.\n",
    "\n",
    "To check if Hidet is installed and functions correctly, you can run the following command:\n",
    "\n",
    "```bash\n",
    "$ python -c \"import hidet; print(hidet.randn([3, 4]) + 1)\"\n",
    "```\n",
    "\n",
    "## (optional) Launching a Jupyter Notebook\n",
    "\n",
    "If you wish to play along with the tutorial notebook, we recommend that you launch a jupyter notebook.\n",
    "\n",
    "```bash\n",
    "jupyter notebook --port 8888 --ip 0.0.0.0\n",
    "```\n",
    "and open http://127.0.0.1:8888\n",
    "\n",
    "\n",
    "If you are using you own remote CUDA capable machine, perform a port-forwarding \n",
    "```\n",
    "ssh -NL 8888:localhost:8888 <user>@<remote>\n",
    "```\n",
    "\n",
    "If you are using a VM provided by the workshop, simply visit `ip:8888` and enter the token from the previous jupyter command\n",
    "\n",
    "You will be asked to provide a token, look for the token in the output of the `jupyter` command above.\n"
   ]
  },
  {
   "cell_type": "code",
   "execution_count": 2,
   "metadata": {},
   "outputs": [
    {
     "name": "stderr",
     "output_type": "stream",
     "text": [
      "Compiling cpu task \u001b[92madds(x=float32[3, 4])\u001b[0m...\n"
     ]
    },
    {
     "name": "stdout",
     "output_type": "stream",
     "text": [
      "Tensor(shape=(3, 4), dtype='float32', device='cpu')\n",
      "[[ 0.28354216  1.2027488   1.3574166   0.891248  ]\n",
      " [-0.35481405  1.9991599   0.03374588  1.0088147 ]\n",
      " [ 3.595424   -0.74697876  0.9503193   0.23587024]]\n"
     ]
    }
   ],
   "source": [
    "import hidet\n",
    "print(hidet.randn([3, 4]) + 1)"
   ]
  }
 ],
 "metadata": {
  "kernelspec": {
   "display_name": "Python 3 (ipykernel)",
   "language": "python",
   "name": "python3"
  },
  "language_info": {
   "codemirror_mode": {
    "name": "ipython",
    "version": 3
   },
   "file_extension": ".py",
   "mimetype": "text/x-python",
   "name": "python",
   "nbconvert_exporter": "python",
   "pygments_lexer": "ipython3",
   "version": "3.9.12"
  }
 },
 "nbformat": 4,
 "nbformat_minor": 1
}
