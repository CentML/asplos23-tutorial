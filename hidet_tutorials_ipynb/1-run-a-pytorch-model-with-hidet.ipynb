{
 "cells": [
  {
   "cell_type": "markdown",
   "metadata": {},
   "source": [
    "# Optimize PyTorch models with Hidet\n",
    "Hidet is a high-performance inference engine for deep learning models. It is designed to be easy to use and has integrated with PyTorch and ONNX frontend. In this tutorial, we will walk through how to optimize PyTorch models with Hidet.\n",
    "\n",
    "To run the tutorial, you need to install PyTorch 2.0, Hidet and jupyter notebook:\n",
    "```bash\n",
    "$ pip install --upgrade torch torchaudio torchvision\n",
    "$ pip install hidet jupyter\n",
    "```\n",
    "\n",
    "Then, you can launch the jupyter notebook by running `jupyter notebook`\n",
    "```bash\n",
    "$ jupyter notebook\n",
    "```\n",
    "\n",
    "and open this tutorial in the browser."
   ]
  },
  {
   "cell_type": "code",
   "execution_count": 1,
   "metadata": {},
   "outputs": [],
   "source": [
    "import torch\n",
    "\n",
    "assert torch.__version__ >= '2.0'"
   ]
  },
  {
   "cell_type": "markdown",
   "metadata": {},
   "source": [
    "The most convenient way to use Hidet is to use the `torch.compile` API. It will automatically optimize the model by dispatching it to the specified backend. This feature is introduced in PyTorch 2.0.\n"
   ]
  },
  {
   "cell_type": "code",
   "execution_count": 2,
   "metadata": {
    "scrolled": false
   },
   "outputs": [],
   "source": [
    "model = torch.hub.load(\n",
    "    'pytorch/vision:v0.6.0',\n",
    "    model='resnet18',\n",
    "    pretrained=True,\n",
    "    verbose=False\n",
    ").cuda().eval()\n",
    "x = torch.randn(1, 3, 224, 224).cuda()\n",
    "y1 = model(x)"
   ]
  },
  {
   "cell_type": "markdown",
   "metadata": {},
   "source": [
    "We will use the ResNet 50 model as an example. The model is downloaded from the PyTorch model zoo. The model is first run on the CPU to get the reference output `y1`.\n"
   ]
  },
  {
   "cell_type": "code",
   "execution_count": 3,
   "metadata": {},
   "outputs": [],
   "source": [
    "import hidet\n",
    "# hidet.torch.dynamo_config.search_space(2)\n",
    "model_opt = torch.compile(model, backend='hidet')\n",
    "y2 = model_opt(x)"
   ]
  },
  {
   "cell_type": "markdown",
   "metadata": {},
   "source": [
    "We can optimize a model by calling `torch.compile` with the `backend` argument set to `hidet`. The optimized model is returned as `model_opt`. The optimized model is run on the GPU to get the output `y2`.\n",
    "\n",
    "Hidet will automatically conduct a series of graph-level optimizations and generate kernels for each operator. We can search the most performant kernel for each operator and its input shape by setting the search space. By default, the search space is 0 and indicates no searching. The search space can be set to 1 or 2. The larger the search space is, the more kernels will be searched and the longer the compilation time will be. The search space can be set by calling `hidet.torch.dynamo_config.search_space(1 or 2)`.\n"
   ]
  },
  {
   "cell_type": "code",
   "execution_count": 4,
   "metadata": {},
   "outputs": [],
   "source": [
    "# Check the results\n",
    "torch.testing.assert_close(actual=y2, expected=y1, rtol=1e-2, atol=1e-2)"
   ]
  },
  {
   "cell_type": "markdown",
   "metadata": {},
   "source": [
    "The results are compared to the reference output `y1` to make sure the optimization is correct."
   ]
  },
  {
   "cell_type": "markdown",
   "metadata": {},
   "source": [
    "### Hidet options\n",
    "Besides the `search_space`, hidet provides several options to control the optimization. All the options can be set by calling `hidet.torch.dynamo_config.xxx()` where `xxx` is the option name. The following options are available:"
   ]
  },
  {
   "cell_type": "code",
   "execution_count": 5,
   "metadata": {},
   "outputs": [
    {
     "data": {
      "text/plain": [
       "<hidet.graph.frontend.torch.dynamo_config.DynamoConfig at 0x7fb8d714b550>"
      ]
     },
     "execution_count": 5,
     "metadata": {},
     "output_type": "execute_result"
    }
   ],
   "source": [
    "config = hidet.torch.dynamo_config\n",
    "config.search_space(level=2)  # set the search space, level can be 0, 1 or 2.\n",
    "config.correctness_report()  # print the correctness report (the error between the optimized model and the reference pytorch model)\n",
    "config.use_fp16()  # convert the model to FP16\n",
    "config.dump_graph_ir(output_dir='./outs')  # debug: dump the hidet graph IR\n",
    "config.print_input_graph()  # debug: print the received torch.fx.Graph from torch dynamo"
   ]
  }
 ],
 "metadata": {
  "kernelspec": {
   "display_name": "Python 3 (ipykernel)",
   "language": "python",
   "name": "python3"
  },
  "language_info": {
   "codemirror_mode": {
    "name": "ipython",
    "version": 3
   },
   "file_extension": ".py",
   "mimetype": "text/x-python",
   "name": "python",
   "nbconvert_exporter": "python",
   "pygments_lexer": "ipython3",
   "version": "3.8.0"
  }
 },
 "nbformat": 4,
 "nbformat_minor": 1
}
