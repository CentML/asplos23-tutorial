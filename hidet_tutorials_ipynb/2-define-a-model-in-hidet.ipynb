{
 "cells": [
  {
   "cell_type": "code",
   "execution_count": 1,
   "metadata": {
    "collapsed": true
   },
   "outputs": [],
   "source": [
    "import hidet"
   ]
  },
  {
   "cell_type": "code",
   "execution_count": 2,
   "outputs": [
    {
     "name": "stdout",
     "output_type": "stream",
     "text": [
      "Graph(x: float32[1, 3, 224, 224]){\n",
      "  c = Constant(float32[64, 3, 7, 7])\n",
      "  c_1 = Constant(float32[1, 64, 1, 1])\n",
      "  x_1: float32[1, 3, 230, 230] = Pad(x, pads=[0, 0, 3, 3, 0, 0, 3, 3], mode=\"constant\", value=0.0)  \n",
      "  x_2: float32[1, 64, 112, 112] = Conv2d(x_1, c, stride=[2, 2], groups=1, dilations=(1, 1))  \n",
      "  x_3: float32[1, 64, 112, 112] = Add(x_2, c_1)  \n",
      "  x_4: float32[1, 64, 112, 112] = Relu(x_3)  \n",
      "  return x_4\n",
      "}\n"
     ]
    }
   ],
   "source": [
    "def conv_relu(x, out_channels, kernel, stride, padding):\n",
    "    w = hidet.randn(shape=[out_channels, x.shape[1], kernel, kernel])\n",
    "    b = hidet.randn(shape=[1, out_channels, 1, 1])\n",
    "    x = hidet.ops.conv_pad(x, pads=padding)\n",
    "    x = hidet.ops.conv2d(x, w, stride=stride) + b\n",
    "    x = hidet.ops.relu(x)\n",
    "    return x\n",
    "\n",
    "img = hidet.symbol([1, 3, 224, 224])\n",
    "out = conv_relu(img, 64, 7, 2, 3)\n",
    "graph = hidet.trace_from(out, inputs=[img])\n",
    "print(graph)\n"
   ],
   "metadata": {
    "collapsed": false
   }
  },
  {
   "cell_type": "code",
   "execution_count": null,
   "outputs": [],
   "source": [],
   "metadata": {
    "collapsed": false
   }
  }
 ],
 "metadata": {
  "kernelspec": {
   "display_name": "Python 3",
   "language": "python",
   "name": "python3"
  },
  "language_info": {
   "codemirror_mode": {
    "name": "ipython",
    "version": 2
   },
   "file_extension": ".py",
   "mimetype": "text/x-python",
   "name": "python",
   "nbconvert_exporter": "python",
   "pygments_lexer": "ipython2",
   "version": "2.7.6"
  }
 },
 "nbformat": 4,
 "nbformat_minor": 0
}
